{
 "cells": [
  {
   "cell_type": "code",
   "execution_count": 1,
   "id": "5a64b898",
   "metadata": {},
   "outputs": [],
   "source": [
    "import pandas as pd\n",
    "import numpy as np\n",
    "from sklearn.model_selection import train_test_split\n",
    "from sklearn.linear_model import LinearRegression\n",
    "from sklearn.metrics import mean_squared_error, mean_absolute_error\n",
    "import matplotlib.pyplot as plt"
   ]
  },
  {
   "cell_type": "code",
   "execution_count": 24,
   "id": "99b46afd",
   "metadata": {},
   "outputs": [
    {
     "data": {
      "text/html": [
       "<div>\n",
       "<style scoped>\n",
       "    .dataframe tbody tr th:only-of-type {\n",
       "        vertical-align: middle;\n",
       "    }\n",
       "\n",
       "    .dataframe tbody tr th {\n",
       "        vertical-align: top;\n",
       "    }\n",
       "\n",
       "    .dataframe thead th {\n",
       "        text-align: right;\n",
       "    }\n",
       "</style>\n",
       "<table border=\"1\" class=\"dataframe\">\n",
       "  <thead>\n",
       "    <tr style=\"text-align: right;\">\n",
       "      <th></th>\n",
       "      <th>CO2</th>\n",
       "      <th>Year&amp;Month</th>\n",
       "      <th>Year</th>\n",
       "      <th>Month</th>\n",
       "    </tr>\n",
       "  </thead>\n",
       "  <tbody>\n",
       "    <tr>\n",
       "      <th>0</th>\n",
       "      <td>333.13</td>\n",
       "      <td>1974.38</td>\n",
       "      <td>1974</td>\n",
       "      <td>5</td>\n",
       "    </tr>\n",
       "    <tr>\n",
       "      <th>1</th>\n",
       "      <td>332.09</td>\n",
       "      <td>1974.46</td>\n",
       "      <td>1974</td>\n",
       "      <td>6</td>\n",
       "    </tr>\n",
       "    <tr>\n",
       "      <th>2</th>\n",
       "      <td>331.10</td>\n",
       "      <td>1974.54</td>\n",
       "      <td>1974</td>\n",
       "      <td>7</td>\n",
       "    </tr>\n",
       "    <tr>\n",
       "      <th>3</th>\n",
       "      <td>329.14</td>\n",
       "      <td>1974.63</td>\n",
       "      <td>1974</td>\n",
       "      <td>8</td>\n",
       "    </tr>\n",
       "    <tr>\n",
       "      <th>4</th>\n",
       "      <td>327.36</td>\n",
       "      <td>1974.71</td>\n",
       "      <td>1974</td>\n",
       "      <td>9</td>\n",
       "    </tr>\n",
       "    <tr>\n",
       "      <th>...</th>\n",
       "      <td>...</td>\n",
       "      <td>...</td>\n",
       "      <td>...</td>\n",
       "      <td>...</td>\n",
       "    </tr>\n",
       "    <tr>\n",
       "      <th>156</th>\n",
       "      <td>351.71</td>\n",
       "      <td>1987.38</td>\n",
       "      <td>1987</td>\n",
       "      <td>5</td>\n",
       "    </tr>\n",
       "    <tr>\n",
       "      <th>157</th>\n",
       "      <td>350.94</td>\n",
       "      <td>1987.46</td>\n",
       "      <td>1987</td>\n",
       "      <td>6</td>\n",
       "    </tr>\n",
       "    <tr>\n",
       "      <th>158</th>\n",
       "      <td>349.10</td>\n",
       "      <td>1987.54</td>\n",
       "      <td>1987</td>\n",
       "      <td>7</td>\n",
       "    </tr>\n",
       "    <tr>\n",
       "      <th>159</th>\n",
       "      <td>346.77</td>\n",
       "      <td>1987.63</td>\n",
       "      <td>1987</td>\n",
       "      <td>8</td>\n",
       "    </tr>\n",
       "    <tr>\n",
       "      <th>160</th>\n",
       "      <td>345.73</td>\n",
       "      <td>1987.71</td>\n",
       "      <td>1987</td>\n",
       "      <td>9</td>\n",
       "    </tr>\n",
       "  </tbody>\n",
       "</table>\n",
       "<p>161 rows × 4 columns</p>\n",
       "</div>"
      ],
      "text/plain": [
       "        CO2  Year&Month  Year  Month\n",
       "0    333.13     1974.38  1974      5\n",
       "1    332.09     1974.46  1974      6\n",
       "2    331.10     1974.54  1974      7\n",
       "3    329.14     1974.63  1974      8\n",
       "4    327.36     1974.71  1974      9\n",
       "..      ...         ...   ...    ...\n",
       "156  351.71     1987.38  1987      5\n",
       "157  350.94     1987.46  1987      6\n",
       "158  349.10     1987.54  1987      7\n",
       "159  346.77     1987.63  1987      8\n",
       "160  345.73     1987.71  1987      9\n",
       "\n",
       "[161 rows x 4 columns]"
      ]
     },
     "execution_count": 24,
     "metadata": {},
     "output_type": "execute_result"
    }
   ],
   "source": [
    "# Read the dataset from the CSV file called 'Co2_Data.csv' and store it in a DataFrame called df\n",
    "df = pd.read_csv('CO2_Data.csv')\n",
    "df"
   ]
  },
  {
   "cell_type": "code",
   "execution_count": 25,
   "id": "d4820932",
   "metadata": {},
   "outputs": [],
   "source": [
    "# Drop rows with missing values\n",
    "df.dropna(inplace=True)"
   ]
  },
  {
   "cell_type": "code",
   "execution_count": 26,
   "id": "9cf6e433",
   "metadata": {},
   "outputs": [
    {
     "data": {
      "text/plain": [
       "Year&Month  Year  Month\n",
       "1974.38     1974  5        333.13\n",
       "1974.46     1974  6        332.09\n",
       "1974.54     1974  7        331.10\n",
       "1974.63     1974  8        329.14\n",
       "1974.71     1974  9        327.36\n",
       "                            ...  \n",
       "1987.38     1987  5        351.71\n",
       "1987.46     1987  6        350.94\n",
       "1987.54     1987  7        349.10\n",
       "1987.63     1987  8        346.77\n",
       "1987.71     1987  9        345.73\n",
       "Name: CO2, Length: 161, dtype: float64"
      ]
     },
     "execution_count": 26,
     "metadata": {},
     "output_type": "execute_result"
    }
   ],
   "source": [
    "df.set_index(['Year&Month', 'Year', 'Month'], inplace=True)\n",
    "co2_data = df['CO2']\n",
    "co2_data"
   ]
  },
  {
   "cell_type": "markdown",
   "id": "4299a053",
   "metadata": {},
   "source": [
    "    Creating Lag Features: The loop for i in range(1, 4) iterates over the values 1, 2, and 3. This loop is used to create lag features, which are previous values of the CO2 column. For each iteration, the line df[f'CO2_Lag{i}'] = df['CO2'].shift(i) creates a new column in the DataFrame df with the name CO2_Lag{i} (e.g., CO2_Lag1, CO2_Lag2, etc.). The values in these new columns are obtained by shifting the values in the 'CO2' column upwards by i positions. This creates a sliding window of size 3, where each value in the 'CO2_Lag1' column represents the CO2 value from the previous time step, 'CO2_Lag2' represents the CO2 value from two time steps ago, and so on.\n",
    "\n",
    "\n",
    "    Splitting the Data: The next step is to split the dataset into training and test sets. The line X = df[['CO2_Lag1', 'CO2_Lag2', 'CO2_Lag3']] selects the columns 'CO2_Lag1', 'CO2_Lag2', and 'CO2_Lag3' from the DataFrame df and assigns them to the variable X, which represents the input features for the model. The line y = df['CO2'] selects the 'CO2' column as the target variable and assigns it to the variable y. The X variable contains the lagged CO2 values, while y contains the corresponding actual CO2 values.\n",
    "\n",
    "By performing these steps, you create a dataset with lagged features, drop rows with missing values, and split the data into training and test sets for the autoregression mode"
   ]
  },
  {
   "cell_type": "code",
   "execution_count": 13,
   "id": "1966bd69",
   "metadata": {},
   "outputs": [],
   "source": [
    "# Create lag features using a sliding window of 3\n",
    "for i in range(1, 4):\n",
    "    df[f'CO2_Lag{i}'] = df['CO2'].shift(i)"
   ]
  },
  {
   "cell_type": "code",
   "execution_count": 14,
   "id": "8932ef30",
   "metadata": {},
   "outputs": [],
   "source": [
    "# Split the data into training and test sets\n",
    "X = df[['CO2_Lag1', 'CO2_Lag2', 'CO2_Lag3']]\n",
    "y = df['CO2']"
   ]
  },
  {
   "cell_type": "markdown",
   "id": "cc093fc3",
   "metadata": {},
   "source": [
    "In the context of time series forecasting, lags refer to using previous observations of a variable to predict its future values. Lagged features capture the relationship between a variable and its past values, allowing the model to incorporate the temporal dependencies and patterns in the data.\n",
    "\n",
    "When creating lagged features, you shift the values of the variable backward in time by a certain number of time steps. For example, if you have monthly data, shifting the variable by one time step creates a lag of one month, and shifting it by two time steps creates a lag of two months.\n",
    "\n",
    "By including lagged features in a time series forecasting model, you enable the model to use the historical values of the variable as input features to predict its future values. The idea is that the past behavior and patterns of the variable can provide valuable information for predicting its future behavior."
   ]
  },
  {
   "cell_type": "markdown",
   "id": "4a4962ca",
   "metadata": {},
   "source": [
    "The missing values are filled with the mean value of the corresponding column using the fillna method. The lines X = X.replace([np.inf, -np.inf], np.nan) and y = y.replace([np.inf, -np.inf], np.nan) replace any infinity values with NaN, which are then filled with the mean value. This ensures that the dataset contains valid values for training the autoregression model."
   ]
  },
  {
   "cell_type": "code",
   "execution_count": 17,
   "id": "9a3ae9bf",
   "metadata": {},
   "outputs": [],
   "source": [
    "# Check for and handle any remaining missing or invalid values\n",
    "X = X.replace([np.inf, -np.inf], np.nan)\n",
    "X = X.fillna(X.mean())\n",
    "y = y.replace([np.inf, -np.inf], np.nan)\n",
    "y = y.fillna(y.mean())"
   ]
  },
  {
   "cell_type": "code",
   "execution_count": 18,
   "id": "fc03ce00",
   "metadata": {},
   "outputs": [],
   "source": [
    "X_train, X_test, y_train, y_test = train_test_split(X, y, test_size=0.2, shuffle=False)\n"
   ]
  },
  {
   "cell_type": "code",
   "execution_count": 19,
   "id": "54fbd85d",
   "metadata": {},
   "outputs": [
    {
     "data": {
      "text/plain": [
       "LinearRegression()"
      ]
     },
     "execution_count": 19,
     "metadata": {},
     "output_type": "execute_result"
    }
   ],
   "source": [
    "# Train the autoregression model\n",
    "model = LinearRegression()\n",
    "model.fit(X_train, y_train)\n"
   ]
  },
  {
   "cell_type": "code",
   "execution_count": 21,
   "id": "b715ff32",
   "metadata": {},
   "outputs": [
    {
     "data": {
      "text/plain": [
       "LinearRegression()"
      ]
     },
     "execution_count": 21,
     "metadata": {},
     "output_type": "execute_result"
    }
   ],
   "source": [
    "# Train the autoregression model\n",
    "model = LinearRegression()\n",
    "model.fit(X_train, y_train)"
   ]
  },
  {
   "cell_type": "code",
   "execution_count": 22,
   "id": "78f08eb0",
   "metadata": {},
   "outputs": [],
   "source": [
    "# Make predictions\n",
    "y_pred_train = model.predict(X_train)\n",
    "y_pred_test = model.predict(X_test)"
   ]
  },
  {
   "cell_type": "code",
   "execution_count": 23,
   "id": "6571c635",
   "metadata": {},
   "outputs": [
    {
     "name": "stdout",
     "output_type": "stream",
     "text": [
      "Training set metrics:\n",
      "MSE: 1.0030192411108287\n",
      "MAE: 0.7172473435727573\n",
      "---\n",
      "Test set metrics:\n",
      "MSE: 0.8035712164526403\n",
      "MAE: 0.7225679101518674\n"
     ]
    }
   ],
   "source": [
    "# Calculate metrics\n",
    "mse_train = mean_squared_error(y_train, y_pred_train)\n",
    "mae_train = mean_absolute_error(y_train, y_pred_train)\n",
    "mse_test = mean_squared_error(y_test, y_pred_test)\n",
    "mae_test = mean_absolute_error(y_test, y_pred_test)\n",
    "\n",
    "print('Training set metrics:')\n",
    "print('MSE:', mse_train)\n",
    "print('MAE:', mae_train)\n",
    "print('---')\n",
    "print('Test set metrics:')\n",
    "print('MSE:', mse_test)\n",
    "print('MAE:', mae_test)"
   ]
  },
  {
   "cell_type": "code",
   "execution_count": null,
   "id": "f7f54fad",
   "metadata": {},
   "outputs": [],
   "source": []
  }
 ],
 "metadata": {
  "kernelspec": {
   "display_name": "Python 3 (ipykernel)",
   "language": "python",
   "name": "python3"
  },
  "language_info": {
   "codemirror_mode": {
    "name": "ipython",
    "version": 3
   },
   "file_extension": ".py",
   "mimetype": "text/x-python",
   "name": "python",
   "nbconvert_exporter": "python",
   "pygments_lexer": "ipython3",
   "version": "3.9.13"
  }
 },
 "nbformat": 4,
 "nbformat_minor": 5
}
