{
 "cells": [
  {
   "cell_type": "code",
   "execution_count": 1,
   "id": "2760e3a6",
   "metadata": {},
   "outputs": [],
   "source": [
    "import pandas as pd\n",
    "import numpy as np\n",
    "from sklearn.svm import SVR\n",
    "from sklearn.metrics import mean_squared_error, mean_absolute_error\n",
    "from sklearn.model_selection import GridSearchCV\n",
    "import matplotlib.pyplot as plt"
   ]
  },
  {
   "cell_type": "code",
   "execution_count": 2,
   "id": "3280fbf5",
   "metadata": {},
   "outputs": [
    {
     "data": {
      "text/html": [
       "<div>\n",
       "<style scoped>\n",
       "    .dataframe tbody tr th:only-of-type {\n",
       "        vertical-align: middle;\n",
       "    }\n",
       "\n",
       "    .dataframe tbody tr th {\n",
       "        vertical-align: top;\n",
       "    }\n",
       "\n",
       "    .dataframe thead th {\n",
       "        text-align: right;\n",
       "    }\n",
       "</style>\n",
       "<table border=\"1\" class=\"dataframe\">\n",
       "  <thead>\n",
       "    <tr style=\"text-align: right;\">\n",
       "      <th></th>\n",
       "      <th>CO2</th>\n",
       "      <th>Year&amp;Month</th>\n",
       "      <th>Year</th>\n",
       "      <th>Month</th>\n",
       "    </tr>\n",
       "  </thead>\n",
       "  <tbody>\n",
       "    <tr>\n",
       "      <th>0</th>\n",
       "      <td>333.13</td>\n",
       "      <td>1974.38</td>\n",
       "      <td>1974</td>\n",
       "      <td>5</td>\n",
       "    </tr>\n",
       "    <tr>\n",
       "      <th>1</th>\n",
       "      <td>332.09</td>\n",
       "      <td>1974.46</td>\n",
       "      <td>1974</td>\n",
       "      <td>6</td>\n",
       "    </tr>\n",
       "    <tr>\n",
       "      <th>2</th>\n",
       "      <td>331.10</td>\n",
       "      <td>1974.54</td>\n",
       "      <td>1974</td>\n",
       "      <td>7</td>\n",
       "    </tr>\n",
       "    <tr>\n",
       "      <th>3</th>\n",
       "      <td>329.14</td>\n",
       "      <td>1974.63</td>\n",
       "      <td>1974</td>\n",
       "      <td>8</td>\n",
       "    </tr>\n",
       "    <tr>\n",
       "      <th>4</th>\n",
       "      <td>327.36</td>\n",
       "      <td>1974.71</td>\n",
       "      <td>1974</td>\n",
       "      <td>9</td>\n",
       "    </tr>\n",
       "    <tr>\n",
       "      <th>...</th>\n",
       "      <td>...</td>\n",
       "      <td>...</td>\n",
       "      <td>...</td>\n",
       "      <td>...</td>\n",
       "    </tr>\n",
       "    <tr>\n",
       "      <th>156</th>\n",
       "      <td>351.71</td>\n",
       "      <td>1987.38</td>\n",
       "      <td>1987</td>\n",
       "      <td>5</td>\n",
       "    </tr>\n",
       "    <tr>\n",
       "      <th>157</th>\n",
       "      <td>350.94</td>\n",
       "      <td>1987.46</td>\n",
       "      <td>1987</td>\n",
       "      <td>6</td>\n",
       "    </tr>\n",
       "    <tr>\n",
       "      <th>158</th>\n",
       "      <td>349.10</td>\n",
       "      <td>1987.54</td>\n",
       "      <td>1987</td>\n",
       "      <td>7</td>\n",
       "    </tr>\n",
       "    <tr>\n",
       "      <th>159</th>\n",
       "      <td>346.77</td>\n",
       "      <td>1987.63</td>\n",
       "      <td>1987</td>\n",
       "      <td>8</td>\n",
       "    </tr>\n",
       "    <tr>\n",
       "      <th>160</th>\n",
       "      <td>345.73</td>\n",
       "      <td>1987.71</td>\n",
       "      <td>1987</td>\n",
       "      <td>9</td>\n",
       "    </tr>\n",
       "  </tbody>\n",
       "</table>\n",
       "<p>161 rows × 4 columns</p>\n",
       "</div>"
      ],
      "text/plain": [
       "        CO2  Year&Month  Year  Month\n",
       "0    333.13     1974.38  1974      5\n",
       "1    332.09     1974.46  1974      6\n",
       "2    331.10     1974.54  1974      7\n",
       "3    329.14     1974.63  1974      8\n",
       "4    327.36     1974.71  1974      9\n",
       "..      ...         ...   ...    ...\n",
       "156  351.71     1987.38  1987      5\n",
       "157  350.94     1987.46  1987      6\n",
       "158  349.10     1987.54  1987      7\n",
       "159  346.77     1987.63  1987      8\n",
       "160  345.73     1987.71  1987      9\n",
       "\n",
       "[161 rows x 4 columns]"
      ]
     },
     "execution_count": 2,
     "metadata": {},
     "output_type": "execute_result"
    }
   ],
   "source": [
    "# Read the dataset from the CSV file called 'Co2_Data.csv' and store it in a DataFrame called df\n",
    "df = pd.read_csv('CO2_Data.csv')\n",
    "df"
   ]
  },
  {
   "cell_type": "code",
   "execution_count": 3,
   "id": "8d52276f",
   "metadata": {},
   "outputs": [],
   "source": [
    "df.set_index(['Year&Month', 'Year', 'Month'], inplace=True)\n",
    "co2_data = df['CO2']"
   ]
  },
  {
   "cell_type": "code",
   "execution_count": 4,
   "id": "cfc4753b",
   "metadata": {},
   "outputs": [],
   "source": [
    "# Define the sliding window size\n",
    "window_size = 3  # Adjust as needed"
   ]
  },
  {
   "cell_type": "code",
   "execution_count": 5,
   "id": "8d2b4564",
   "metadata": {},
   "outputs": [],
   "source": [
    "# Generate training samples and targets\n",
    "X = []\n",
    "y = []\n",
    "for i in range(len(df) - window_size):\n",
    "    X.append(df.iloc[i:i+window_size]['CO2'].values)\n",
    "    y.append(df.iloc[i+window_size]['CO2'])\n",
    "X = np.array(X)\n",
    "y = np.array(y)\n"
   ]
  },
  {
   "cell_type": "code",
   "execution_count": 6,
   "id": "657fd040",
   "metadata": {},
   "outputs": [],
   "source": [
    "# Split the data into training and test sets (80% for training, 20% for testing)\n",
    "train_size = int(0.8 * len(X))\n",
    "X_train, X_test = X[:train_size], X[train_size:]\n",
    "y_train, y_test = y[:train_size], y[train_size:]"
   ]
  },
  {
   "cell_type": "code",
   "execution_count": 7,
   "id": "5c2177c5",
   "metadata": {},
   "outputs": [],
   "source": [
    "# Create the SVR model\n",
    "model = SVR()"
   ]
  },
  {
   "cell_type": "code",
   "execution_count": 8,
   "id": "cd55641e",
   "metadata": {},
   "outputs": [],
   "source": [
    "# Define the hyperparameters and their possible values\n",
    "param_grid = {\n",
    "    'kernel': ['linear', 'poly', 'rbf'],\n",
    "    'C': [0.1, 1, 10],\n",
    "    'gamma': [0.1, 1, 10]\n",
    "}"
   ]
  },
  {
   "cell_type": "code",
   "execution_count": null,
   "id": "5c731daf",
   "metadata": {},
   "outputs": [],
   "source": [
    "# Create an instance of GridSearchCV and fit it to the training data\n",
    "grid_search = GridSearchCV(model, param_grid, cv=3, scoring='neg_mean_squared_error')\n",
    "grid_search.fit(X_train, y_train)"
   ]
  },
  {
   "cell_type": "code",
   "execution_count": null,
   "id": "c9d4cbeb",
   "metadata": {},
   "outputs": [],
   "source": [
    "# Retrieve the best model from the grid search\n",
    "best_model = grid_search.best_estimator_\n"
   ]
  },
  {
   "cell_type": "code",
   "execution_count": null,
   "id": "9e9912de",
   "metadata": {},
   "outputs": [],
   "source": [
    "# Make predictions using the best model\n",
    "y_pred = best_model.predict(X_test)\n"
   ]
  },
  {
   "cell_type": "code",
   "execution_count": null,
   "id": "4452b0b8",
   "metadata": {},
   "outputs": [],
   "source": [
    "# Calculate MSE and MAE\n",
    "mse = mean_squared_error(y_test, y_pred)\n",
    "mae = mean_absolute_error(y_test, y_pred)\n",
    "print(\"Mean Squared Error (MSE):\", mse)\n",
    "print(\"Mean Absolute Error (MAE):\", mae)"
   ]
  },
  {
   "cell_type": "code",
   "execution_count": null,
   "id": "74dcabc8",
   "metadata": {},
   "outputs": [],
   "source": []
  }
 ],
 "metadata": {
  "kernelspec": {
   "display_name": "Python 3 (ipykernel)",
   "language": "python",
   "name": "python3"
  },
  "language_info": {
   "codemirror_mode": {
    "name": "ipython",
    "version": 3
   },
   "file_extension": ".py",
   "mimetype": "text/x-python",
   "name": "python",
   "nbconvert_exporter": "python",
   "pygments_lexer": "ipython3",
   "version": "3.9.13"
  }
 },
 "nbformat": 4,
 "nbformat_minor": 5
}
