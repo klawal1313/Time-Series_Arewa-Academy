{
 "cells": [
  {
   "cell_type": "code",
   "execution_count": 16,
   "id": "927b107b",
   "metadata": {},
   "outputs": [],
   "source": [
    "#First, let's start by importing the necessary libraries:\n",
    "import pandas as pd\n",
    "import numpy as np\n",
    "from sklearn.svm import SVR\n",
    "from sklearn.metrics import mean_squared_error, mean_absolute_error\n",
    "import matplotlib.pyplot as plt"
   ]
  },
  {
   "cell_type": "code",
   "execution_count": 17,
   "id": "9fdc0bbe",
   "metadata": {},
   "outputs": [
    {
     "data": {
      "text/html": [
       "<div>\n",
       "<style scoped>\n",
       "    .dataframe tbody tr th:only-of-type {\n",
       "        vertical-align: middle;\n",
       "    }\n",
       "\n",
       "    .dataframe tbody tr th {\n",
       "        vertical-align: top;\n",
       "    }\n",
       "\n",
       "    .dataframe thead th {\n",
       "        text-align: right;\n",
       "    }\n",
       "</style>\n",
       "<table border=\"1\" class=\"dataframe\">\n",
       "  <thead>\n",
       "    <tr style=\"text-align: right;\">\n",
       "      <th></th>\n",
       "      <th>CO2</th>\n",
       "      <th>Year&amp;Month</th>\n",
       "      <th>Year</th>\n",
       "      <th>Month</th>\n",
       "    </tr>\n",
       "  </thead>\n",
       "  <tbody>\n",
       "    <tr>\n",
       "      <th>0</th>\n",
       "      <td>333.13</td>\n",
       "      <td>1974.38</td>\n",
       "      <td>1974</td>\n",
       "      <td>5</td>\n",
       "    </tr>\n",
       "    <tr>\n",
       "      <th>1</th>\n",
       "      <td>332.09</td>\n",
       "      <td>1974.46</td>\n",
       "      <td>1974</td>\n",
       "      <td>6</td>\n",
       "    </tr>\n",
       "    <tr>\n",
       "      <th>2</th>\n",
       "      <td>331.10</td>\n",
       "      <td>1974.54</td>\n",
       "      <td>1974</td>\n",
       "      <td>7</td>\n",
       "    </tr>\n",
       "    <tr>\n",
       "      <th>3</th>\n",
       "      <td>329.14</td>\n",
       "      <td>1974.63</td>\n",
       "      <td>1974</td>\n",
       "      <td>8</td>\n",
       "    </tr>\n",
       "    <tr>\n",
       "      <th>4</th>\n",
       "      <td>327.36</td>\n",
       "      <td>1974.71</td>\n",
       "      <td>1974</td>\n",
       "      <td>9</td>\n",
       "    </tr>\n",
       "    <tr>\n",
       "      <th>...</th>\n",
       "      <td>...</td>\n",
       "      <td>...</td>\n",
       "      <td>...</td>\n",
       "      <td>...</td>\n",
       "    </tr>\n",
       "    <tr>\n",
       "      <th>156</th>\n",
       "      <td>351.71</td>\n",
       "      <td>1987.38</td>\n",
       "      <td>1987</td>\n",
       "      <td>5</td>\n",
       "    </tr>\n",
       "    <tr>\n",
       "      <th>157</th>\n",
       "      <td>350.94</td>\n",
       "      <td>1987.46</td>\n",
       "      <td>1987</td>\n",
       "      <td>6</td>\n",
       "    </tr>\n",
       "    <tr>\n",
       "      <th>158</th>\n",
       "      <td>349.10</td>\n",
       "      <td>1987.54</td>\n",
       "      <td>1987</td>\n",
       "      <td>7</td>\n",
       "    </tr>\n",
       "    <tr>\n",
       "      <th>159</th>\n",
       "      <td>346.77</td>\n",
       "      <td>1987.63</td>\n",
       "      <td>1987</td>\n",
       "      <td>8</td>\n",
       "    </tr>\n",
       "    <tr>\n",
       "      <th>160</th>\n",
       "      <td>345.73</td>\n",
       "      <td>1987.71</td>\n",
       "      <td>1987</td>\n",
       "      <td>9</td>\n",
       "    </tr>\n",
       "  </tbody>\n",
       "</table>\n",
       "<p>161 rows × 4 columns</p>\n",
       "</div>"
      ],
      "text/plain": [
       "        CO2  Year&Month  Year  Month\n",
       "0    333.13     1974.38  1974      5\n",
       "1    332.09     1974.46  1974      6\n",
       "2    331.10     1974.54  1974      7\n",
       "3    329.14     1974.63  1974      8\n",
       "4    327.36     1974.71  1974      9\n",
       "..      ...         ...   ...    ...\n",
       "156  351.71     1987.38  1987      5\n",
       "157  350.94     1987.46  1987      6\n",
       "158  349.10     1987.54  1987      7\n",
       "159  346.77     1987.63  1987      8\n",
       "160  345.73     1987.71  1987      9\n",
       "\n",
       "[161 rows x 4 columns]"
      ]
     },
     "execution_count": 17,
     "metadata": {},
     "output_type": "execute_result"
    }
   ],
   "source": [
    "# Read the dataset from the CSV file called 'Co2_Data.csv' and store it in a DataFrame called df\n",
    "df = pd.read_csv('CO2_Data.csv')\n",
    "df"
   ]
  },
  {
   "cell_type": "code",
   "execution_count": 18,
   "id": "f8c6ee5b",
   "metadata": {},
   "outputs": [],
   "source": [
    "# let'set the Year&Month, Year, and Month as an index\n",
    "df.set_index(['Year&Month', 'Year', 'Month'], inplace=True)\n",
    "co2_data = df['CO2']"
   ]
  },
  {
   "cell_type": "code",
   "execution_count": 19,
   "id": "e202d789",
   "metadata": {},
   "outputs": [],
   "source": [
    "# Define the sliding window size\n",
    "window_size = 3  # Adjust as needed"
   ]
  },
  {
   "cell_type": "markdown",
   "id": "0543197d",
   "metadata": {},
   "source": [
    "    X variable is an empty list that will store the training samples. Each training sample is a sequence of window_size consecutive values of the 'CO2' feature from your dataset.\n",
    "\n",
    "    y variable is an empty list that will store the corresponding targets for each training sample. Each target is the 'CO2' value that follows the sequence of values in the training sample.\n",
    "\n",
    "    for loop: The loop iterates from 0 to len(df) - window_size - 1. It generates the training samples and targets by slicing the 'CO2' values from the DataFrame.\n",
    "\n",
    "    X.append(): In each iteration of the loop, it appends a training sample to the X list. The training sample is obtained by using df.iloc[i:i+window_size]['CO2'].values, which slices the 'CO2' values from index i to i+window_size-1 (inclusive) and converts them to a NumPy array.\n",
    "\n",
    "    y.append(): In each iteration of the loop, it appends the corresponding target to the y list. The target is the 'CO2' value at index i+window_size in the DataFrame.\n",
    "\n",
    "    np.array(): After the loop, the X and y lists are converted to NumPy arrays using np.array() to prepare them for training the model.\n",
    "\n",
    "In summary, this part of the code creates training samples by selecting window_size consecutive values of the 'CO2' feature as input (X) and their corresponding 'CO2' values as the target (y). These training samples and targets will be used to train the SVR model later in the code"
   ]
  },
  {
   "cell_type": "code",
   "execution_count": 20,
   "id": "e6202218",
   "metadata": {},
   "outputs": [],
   "source": [
    "# Generate training samples and targets\n",
    "X = []\n",
    "y = []\n",
    "for i in range(len(df) - window_size):\n",
    "    X.append(df.iloc[i:i+window_size]['CO2'].values)\n",
    "    y.append(df.iloc[i+window_size]['CO2'])\n",
    "X = np.array(X)\n",
    "y = np.array(y)"
   ]
  },
  {
   "cell_type": "code",
   "execution_count": 21,
   "id": "7295d1a5",
   "metadata": {},
   "outputs": [],
   "source": [
    "# Split the data into training and test sets (80% for training, 20% for testing)\n",
    "train_size = int(0.8 * len(X))\n",
    "X_train, X_test = X[:train_size], X[train_size:]\n",
    "y_train, y_test = y[:train_size], y[train_size:]"
   ]
  },
  {
   "cell_type": "code",
   "execution_count": 22,
   "id": "5da881dc",
   "metadata": {},
   "outputs": [],
   "source": [
    "# Create the SVM model\n",
    "model = SVR()\n"
   ]
  },
  {
   "cell_type": "markdown",
   "id": "da8b5ba8",
   "metadata": {},
   "source": [
    " SVM (Support Vector Machine) and SVR (Support Vector Regression) models are different in their purpose and application.\n",
    " \n",
    " SVM is used for classification tasks, aiming to find an optimal hyperplane that maximally separates data points of different classes. It can handle linearly and non-linearly separable datasets using various kernel functions. On the other hand, SVR is used for regression tasks, aiming to find an optimal hyperplane that best fits the data points within a specified margin. SVR predicts a continuous target variable and can handle linear and non-linear relationships using different kernel functions. While both models utilize support vectors and optimization techniques, their objectives and output formats differ: SVM provides discrete class labels, while SVR provides continuous predictions for the target variable.\n",
    "\n",
    "In summary, SVM is used for classification tasks to separate data points into different classes, while SVR is used for regression tasks to predict a continuous target variable. Both SVM and SVR use the concept of support vectors and optimization techniques, but they have different objectives and output formats."
   ]
  },
  {
   "cell_type": "code",
   "execution_count": 24,
   "id": "ced42e02",
   "metadata": {},
   "outputs": [
    {
     "data": {
      "text/plain": [
       "SVR()"
      ]
     },
     "execution_count": 24,
     "metadata": {},
     "output_type": "execute_result"
    }
   ],
   "source": [
    "# Train the model\n",
    "model.fit(X_train, y_train)"
   ]
  },
  {
   "cell_type": "code",
   "execution_count": 25,
   "id": "cebc6273",
   "metadata": {},
   "outputs": [],
   "source": [
    "# Make forecasting\n",
    "y_pred = model.predict(X_test)"
   ]
  },
  {
   "cell_type": "code",
   "execution_count": 26,
   "id": "726bf18d",
   "metadata": {},
   "outputs": [
    {
     "name": "stdout",
     "output_type": "stream",
     "text": [
      "Mean Squared Error (MSE): 32.497825769602485\n",
      "Mean Absolute Error (MAE): 4.890438273217171\n"
     ]
    }
   ],
   "source": [
    "# Calculate MSE and MAE\n",
    "mse = mean_squared_error(y_test, y_pred)\n",
    "mae = mean_absolute_error(y_test, y_pred)\n",
    "print(\"Mean Squared Error (MSE):\", mse)\n",
    "print(\"Mean Absolute Error (MAE):\", mae)"
   ]
  },
  {
   "cell_type": "code",
   "execution_count": null,
   "id": "40210e74",
   "metadata": {},
   "outputs": [],
   "source": []
  }
 ],
 "metadata": {
  "kernelspec": {
   "display_name": "Python 3 (ipykernel)",
   "language": "python",
   "name": "python3"
  },
  "language_info": {
   "codemirror_mode": {
    "name": "ipython",
    "version": 3
   },
   "file_extension": ".py",
   "mimetype": "text/x-python",
   "name": "python",
   "nbconvert_exporter": "python",
   "pygments_lexer": "ipython3",
   "version": "2022.10.-1"
  }
 },
 "nbformat": 4,
 "nbformat_minor": 5
}
